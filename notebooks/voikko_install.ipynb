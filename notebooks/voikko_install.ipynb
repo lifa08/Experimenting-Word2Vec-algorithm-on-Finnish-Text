{
 "cells": [
  {
   "cell_type": "markdown",
   "metadata": {},
   "source": [
    "# Install voikko library libvoikko on mac\n",
    "\n",
    "Well, I wanted to use python libvoikko library to do text propressing on some Finnish documents. In order to use the python libvoikko, it is required to install the Voikko library and test whether the installation is successful with the python example code from [here](https://www.puimula.org/htp/doc/python/libvoikko.html). Unfortunately, the installing process was quite torturing in that there is not so many documentations about it. Thus, I record my installing process here in case someone encounter the same issues as I did.\n",
    "\n",
    "TL;DR\n",
    "\n",
    "In order to make libvoikko to work on mac. We need to do the following:\n",
    "- Install python libvoikko with command ```pip install voikko```\n",
    "- Install dependencies: pkg-config, gettext, libxml++ 2, libarchive, libz, libtool, hfst-ospell\n",
    "- Build libvoikko\n",
    "- Install voikko-fi if you want to use libvoikko to preprocess Finnish text.\n",
    "\n",
    "Below is the gory details of my journey of pain to get libvoikko to work on mac."
   ]
  },
  {
   "cell_type": "markdown",
   "metadata": {},
   "source": [
    "### Install with homebrew: failed\n",
    "\n",
    "```$ brew install libvoikko```\n",
    "\n",
    "With this installation, the python code has the issue of **dlopen: symbol not found: __zn7hfst_ol10transducer6lookupepc**. \n",
    "\n",
    "The dlopen problem is guessed to be the case where **the install process did not complete**."
   ]
  },
  {
   "cell_type": "markdown",
   "metadata": {},
   "source": [
    "### Install from source: failed\n",
    "\n",
    "```$ PREFIX=/usr/local```\n",
    "\n",
    "```$ CPPFLAGS=\"-I$PREFIX/include\" CXXFLAGS=\"-L$PREFIX/lib\" PKG_CONFIG_PATH=\"/usr/local/lib/pkgconfig\" ./configure --prefix=$PREFIX --with-dictionary-path=$PREFIX/lib/voikko```\n",
    "\n",
    "```$ make```\n",
    "\n",
    "    clang: error: argument unused during compilation: '-L/usr/local/lib' [-Werror,-Wunused-command-line-argument]\n",
    "\n",
    "Or\n",
    "\n",
    "```$ PREFIX=/usr/local```\n",
    "\n",
    "```$ CPPFLAGS=\"-I$PREFIX/include\" PKG_CONFIG_PATH=\"/usr/local/lib/pkgconfig\" ./configure --prefix=$PREFIX --with-dictionary-path=$PREFIX/lib/voikko```\n",
    "\n",
    "```$ make```\n",
    "\n",
    "    ./morphology/HfstAnalyzer.hpp:52:3: error: use of undeclared identifier 'hfst_ol'\n",
    "                    hfst_ol::Transducer *t;\n",
    "                    ^\n",
    "    morphology/AnalyzerFactory.cpp:77:10: error: cannot initialize return object of type 'libvoikko::morphology::Analyzer *'\n",
    "          with an rvalue of type 'libvoikko::morphology::HfstAnalyzer *'\n",
    "                    return new HfstAnalyzer(morPath);\n",
    "                           ^~~~~~~~~~~~~~~~~~~~~~~~~\n",
    "                       \n",
    "Yet, I counldn't find a way to solve it even struggling with it for a while.\n",
    "\n",
    "[Ref](http://voikko.puimula.org/source-mac.html)"
   ]
  },
  {
   "cell_type": "markdown",
   "metadata": {},
   "source": [
    "### Compiling voikko with hfst: succeed\n",
    "\n",
    "#### Install dependencies: pkg-config, gettext, libxml++ 2, libarchive, libz\n",
    "\n",
    "Since I only lacked libz, so I installed it only.\n",
    "\n",
    "```$ brew install zlib```\n",
    "\n",
    "#### Install hfst-ospell\n",
    "\n",
    "```$ brew install hfstospell```\n",
    "\n",
    "#### Build LibVoikko\n",
    "\n",
    "```$ git clone https://github.com/voikko/corevoikko.git```\n",
    "\n",
    "```$ cd corevoikko/libvoikko```\n",
    "\n",
    "```$ ./autogen.sh```\n",
    "\n",
    "    Cleaning autotools files...\n",
    "    cp: /usr/share/gettext/config.rpath: No such file or directory\n",
    "    Creating autotools files...\n",
    "    configure.ac:47: error: possibly undefined macro: AC_LIBTOOL_WIN32_DLL\n",
    "          If this token and others are legitimate, please use m4_pattern_allow.\n",
    "          See the Autoconf documentation.\n",
    "    autoreconf: /usr/local/Cellar/autoconf/2.69/bin/autoconf failed with exit status: 1oreconf: /usr/local/Cellar/autoconf/2.69/bin/autoconf failed with exit status: 1\n",
    "\n",
    "To solve above problem,\n",
    "\n",
    "1. need to find the path to file **gettext/config.rpath**, and replace ```cp: /usr/share/gettext/config.rpath``` in the autogen.sh file with the found path e.g. ```cp /usr/local/Cellar/gettext/0.19.8.1//share/gettext/config.rpath```\n",
    "\n",
    "2. need to install libtool: ```$ brew install libtool```\n",
    "\n",
    "```$ ./autogen.sh```\n",
    "\n",
    "```$ ./configure --with-dictionary-path=/Users/lifa08/Library/Spelling/voikko:/usr/local/share/voikko:/usr/local/lib/voikko```\n",
    "\n",
    "    Libvoikko was configured with the following options\n",
    "      * VFST support:                   yes\n",
    "      *   Experimental VFST features:   no\n",
    "      * HFST support:                   yes\n",
    "      * Experimental VISLCG3 support:   no\n",
    "      * Experimental Lttoolbox support: no\n",
    "      * Morphology compilers:           yes\n",
    "      * Simple client programs:         yes\n",
    "      * Fallback dictionary path:       /Users/lifa08/Library/Spelling/voikko:/usr/local/share/voikko:/usr/local/lib/voikko\n",
    "\n",
    "```$ make```\n",
    "\n",
    "    Making all in java\n",
    "    make[2]: Nothing to be done for `all'.\n",
    "    Making all in test\n",
    "    make[2]: Nothing to be done for `all'.\n",
    "    Making all in cs\n",
    "    make[2]: Nothing to be done for `all'.\n",
    "    Making all in cl\n",
    "    make[2]: Nothing to be done for `all'.\n",
    "    make[2]: Nothing to be done for `all-am'.\n",
    "    \n",
    "```$ sudo make install```\n",
    "\n",
    "    Making install in java\n",
    "    make[2]: Nothing to be done for `install-exec-am'.\n",
    "    make[2]: Nothing to be done for `install-data-am'.\n",
    "    Making install in test\n",
    "    make[2]: Nothing to be done for `install-exec-am'.\n",
    "    make[2]: Nothing to be done for `install-data-am'.\n",
    "    Making install in cs\n",
    "    make[2]: Nothing to be done for `install-exec-am'.\n",
    "    make[2]: Nothing to be done for `install-data-am'.\n",
    "    Making install in cl\n",
    "    make[2]: Nothing to be done for `install-exec-am'.\n",
    "    make[2]: Nothing to be done for `install-data-am'.\n",
    "    make[2]: Nothing to be done for `install-exec-am'.\n",
    "    make[2]: Nothing to be done for `install-data-am'.\n",
    "    \n",
    "[Ref](http://divvun.no/doc/infra/CompilingVoikkoWithHfst.html)\n",
    "\n",
    "Now run the python code:"
   ]
  },
  {
   "cell_type": "code",
   "execution_count": 1,
   "metadata": {
    "collapsed": true
   },
   "outputs": [],
   "source": [
    "from voikko.libvoikko import Voikko"
   ]
  },
  {
   "cell_type": "code",
   "execution_count": 2,
   "metadata": {},
   "outputs": [
    {
     "ename": "VoikkoException",
     "evalue": "Initialization of Voikko failed: No valid dictionaries were found",
     "output_type": "error",
     "traceback": [
      "\u001b[0;31m---------------------------------------------------------------------------\u001b[0m",
      "\u001b[0;31mVoikkoException\u001b[0m                           Traceback (most recent call last)",
      "\u001b[0;32m<ipython-input-2-9f0dfea82a84>\u001b[0m in \u001b[0;36m<module>\u001b[0;34m()\u001b[0m\n\u001b[0;32m----> 1\u001b[0;31m \u001b[0mv\u001b[0m \u001b[0;34m=\u001b[0m \u001b[0mVoikko\u001b[0m\u001b[0;34m(\u001b[0m\u001b[0;34m\"fi\"\u001b[0m\u001b[0;34m)\u001b[0m\u001b[0;34m\u001b[0m\u001b[0m\n\u001b[0m",
      "\u001b[0;32m~/anaconda3/lib/python3.6/site-packages/voikko/libvoikko.py\u001b[0m in \u001b[0;36m__init__\u001b[0;34m(self, language, path)\u001b[0m\n\u001b[1;32m    434\u001b[0m         \u001b[0;32mif\u001b[0m \u001b[0merror\u001b[0m\u001b[0;34m.\u001b[0m\u001b[0mvalue\u001b[0m \u001b[0;32mis\u001b[0m \u001b[0;32mnot\u001b[0m \u001b[0;32mNone\u001b[0m\u001b[0;34m:\u001b[0m\u001b[0;34m\u001b[0m\u001b[0m\n\u001b[1;32m    435\u001b[0m             \u001b[0mself\u001b[0m\u001b[0;34m.\u001b[0m\u001b[0m__handle\u001b[0m \u001b[0;34m=\u001b[0m \u001b[0;36m0\u001b[0m\u001b[0;34m\u001b[0m\u001b[0m\n\u001b[0;32m--> 436\u001b[0;31m             \u001b[0;32mraise\u001b[0m \u001b[0mVoikkoException\u001b[0m\u001b[0;34m(\u001b[0m\u001b[0;34m\"Initialization of Voikko failed: \"\u001b[0m \u001b[0;34m+\u001b[0m \u001b[0municode_str\u001b[0m\u001b[0;34m(\u001b[0m\u001b[0merror\u001b[0m\u001b[0;34m.\u001b[0m\u001b[0mvalue\u001b[0m\u001b[0;34m,\u001b[0m \u001b[0;34m\"UTF-8\"\u001b[0m\u001b[0;34m)\u001b[0m\u001b[0;34m)\u001b[0m\u001b[0;34m\u001b[0m\u001b[0m\n\u001b[0m\u001b[1;32m    437\u001b[0m \u001b[0;34m\u001b[0m\u001b[0m\n\u001b[1;32m    438\u001b[0m     \u001b[0;32mdef\u001b[0m \u001b[0m__del__\u001b[0m\u001b[0;34m(\u001b[0m\u001b[0mself\u001b[0m\u001b[0;34m)\u001b[0m\u001b[0;34m:\u001b[0m\u001b[0;34m\u001b[0m\u001b[0m\n",
      "\u001b[0;31mVoikkoException\u001b[0m: Initialization of Voikko failed: No valid dictionaries were found"
     ]
    }
   ],
   "source": [
    "v = Voikko(\"fi\")"
   ]
  },
  {
   "cell_type": "markdown",
   "metadata": {},
   "source": [
    "Well, No valid dictionaries were found, So lets install dictionary **voikko-fi**"
   ]
  },
  {
   "cell_type": "markdown",
   "metadata": {},
   "source": [
    "## Install voikko-fi\n",
    "\n",
    "Building voikko-fi from this source code requires **foma**, libvoikko, python (version 3 or later) and GNU make.\n",
    "\n",
    "So install **foma** first: \n",
    "\n",
    "Download foma from [here](https://bitbucket.org/mhulden/foma/downloads/foma-0.9.18_OSX.tar.gz) and unpack it.\n",
    "\n",
    "```$ cd OSX```\n",
    "\n",
    "```$ sudo cp ./foma /usr/local/bin/.```\n",
    "\n",
    "```$ sudo cp ./flookup /usr/local/bin/.```\n",
    "\n",
    "[Ref](https://blogs.cornell.edu/finitestatecompling/2016/08/24/installing-foma/)\n",
    "\n",
    "Then build **voikko-fi**:\n",
    "\n",
    "```$ make vvfst```\n",
    "\n",
    "    foma -f vvfst/main.foma 2>&1 | grep -v \"defined but not used\"\n",
    "    Root...15, Sanasto...13, Sanasto_ee...2, Sanasto_em...2, Sanasto_ep...2, Sanasto_es...2, Sanasto_h...1, Sanasto_l...2, Sanasto_n...2, Sanasto_nl...2, Sanasto_t...2, Sanasto_p...1, Sanasto_a...2, Sanasto_s...2, Sanasto_c...1, Sanasto_laatusanat...2, Sanasto_nimisanat...3, Sanasto_nimisanat_ja_nl_vertailumuodot...\n",
    "    .\n",
    "    .\n",
    "    .\n",
    "    uhdesana...Building lexicon...\n",
    "    25\n",
    "    Determinizing...\n",
    "    Minimizing...\n",
    "    Done!\n",
    "    7.5 MB. 430498 states, 491152 arcs, Cyclic.\n",
    "    defined Lexicon: 7.5 MB. 430498 states, 491152 arcs, Cyclic.\n",
    "    defined ItoE: 517 bytes. 3 states, 10 arcs, Cyclic.\n",
    "    defined Lengthening: 1.9 kB. 9 states, 90 arcs, Cyclic.\n",
    "    defined HV: 2.5 kB. 17 states, 125 arcs, Cyclic.\n",
    "    variable flag-is-epsilon = ON\n",
    "    7.5 MB. 432053 states, 493608 arcs, Cyclic.\n",
    "    7.5 MB. 432053 states, 493608 arcs, Cyclic.\n",
    "    defined Lexicon2: 7.5 MB. 432053 states, 493608 arcs, Cyclic.\n",
    "    7.5 MB. 432046 states, 493521 arcs, Cyclic.\n",
    "    7.5 MB. 432046 states, 493521 arcs, Cyclic.\n",
    "    Writing AT&T file: vvfst/all.att\n",
    "    ! grep ']]' vvfst/all.att\n",
    "    cat vvfst/all.att | sort -n | voikkovfstc -o vvfst/mor.vfst\n",
    "    Symbols: 288\n",
    "    Transitions: 493521\n",
    "    Final states: 1\n",
    "    Overflow cells: 1\n",
    "    foma -f vvfst/autocorrect.foma 2>&1 | grep -v \"defined but not used\"\n",
    "    Root...Building lexicon...\n",
    "    228\n",
    "    Determinizing...\n",
    "    Minimizing...\n",
    "    Done!\n",
    "    22.8 kB. 1188 states, 1411 arcs, 227 paths.\n",
    "    defined Lexicon: 22.8 kB. 1188 states, 1411 arcs, 227 paths.\n",
    "    variable flag-is-epsilon = ON\n",
    "    22.8 kB. 1188 states, 1411 arcs, 227 paths.\n",
    "    22.8 kB. 1188 states, 1411 arcs, 227 paths.\n",
    "    Writing AT&T file: vvfst/autocorrect.att\n",
    "    cat vvfst/autocorrect.att | sort -n | voikkovfstc -o vvfst/autocorr.vfst\n",
    "    Symbols: 22\n",
    "    Transitions: 1411\n",
    "    Final states: 1\n",
    "    Overflow cells: 0\n",
    "\n",
    "```$ sudo make vvfst-install DESTDIR=/usr/local/lib/voikko```\n",
    "\n",
    "    install -m 755 -d /usr/local/lib/voikko/5/mor-standard\n",
    "    install -m 644 vvfst/index.txt vvfst/mor.vfst vvfst/autocorr.vfst /usr/local/lib/voikko/5/mor-standard\n",
    "    \n",
    "[Ref](https://github.com/voikko/corevoikko/tree/master/voikko-fi)\n",
    "\n",
    "Then, run the python code again, this time no errors!"
   ]
  },
  {
   "cell_type": "code",
   "execution_count": 5,
   "metadata": {
    "collapsed": true
   },
   "outputs": [],
   "source": [
    "v = Voikko(\"fi\")"
   ]
  },
  {
   "cell_type": "code",
   "execution_count": 7,
   "metadata": {},
   "outputs": [
    {
     "data": {
      "text/plain": [
       "[{'BASEFORM': 'kissa',\n",
       "  'CLASS': 'nimisana',\n",
       "  'FSTOUTPUT': '[Ln][Xp]kissa[X]kiss[Sn][Ny]a',\n",
       "  'NUMBER': 'singular',\n",
       "  'SIJAMUOTO': 'nimento',\n",
       "  'STRUCTURE': '=ppppp',\n",
       "  'WORDBASES': '+kissa(kissa)'}]"
      ]
     },
     "execution_count": 7,
     "metadata": {},
     "output_type": "execute_result"
    }
   ],
   "source": [
    "v.analyze(u\"kissa\")"
   ]
  },
  {
   "cell_type": "code",
   "execution_count": 8,
   "metadata": {},
   "outputs": [
    {
     "data": {
      "text/plain": [
       "True"
      ]
     },
     "execution_count": 8,
     "metadata": {},
     "output_type": "execute_result"
    }
   ],
   "source": [
    "v.spell(u\"kissa\")"
   ]
  },
  {
   "cell_type": "code",
   "execution_count": 9,
   "metadata": {},
   "outputs": [
    {
     "data": {
      "text/plain": [
       "['kissa', 'kissaa', 'kisassa', 'kisussa']"
      ]
     },
     "execution_count": 9,
     "metadata": {},
     "output_type": "execute_result"
    }
   ],
   "source": [
    "v.suggest(u\"kisssa\")"
   ]
  },
  {
   "cell_type": "code",
   "execution_count": 10,
   "metadata": {},
   "outputs": [
    {
     "data": {
      "text/plain": [
       "'kis-sa'"
      ]
     },
     "execution_count": 10,
     "metadata": {},
     "output_type": "execute_result"
    }
   ],
   "source": [
    "v.hyphenate(u\"kissa\")"
   ]
  },
  {
   "cell_type": "code",
   "execution_count": 11,
   "metadata": {
    "collapsed": true
   },
   "outputs": [],
   "source": [
    "v.terminate()"
   ]
  }
 ],
 "metadata": {
  "kernelspec": {
   "display_name": "Python 3",
   "language": "python",
   "name": "python3"
  },
  "language_info": {
   "codemirror_mode": {
    "name": "ipython",
    "version": 3
   },
   "file_extension": ".py",
   "mimetype": "text/x-python",
   "name": "python",
   "nbconvert_exporter": "python",
   "pygments_lexer": "ipython3",
   "version": "3.6.3"
  }
 },
 "nbformat": 4,
 "nbformat_minor": 2
}
